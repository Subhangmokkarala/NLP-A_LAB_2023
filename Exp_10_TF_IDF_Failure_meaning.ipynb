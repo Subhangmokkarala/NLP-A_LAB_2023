{
 "cells": [
  {
   "cell_type": "code",
   "execution_count": 1,
   "id": "79256fc6",
   "metadata": {},
   "outputs": [],
   "source": [
    "corpus = [\n",
    "    \"sunday is my favoute sunday\",\n",
    "    \"I hate mondays after sunday\",\n",
    "    \"Tuesday is good day as its my birthday but sunday\",\n",
    "    \"wednesday is a holiday for festival\",\n",
    "    \"I dont like to come on thrusday\",\n",
    "    \"friday i have to come early\",\n",
    "    \"saturday i passion to work more\"\n",
    "]"
   ]
  },
  {
   "cell_type": "code",
   "execution_count": 7,
   "id": "adaae6e8",
   "metadata": {},
   "outputs": [
    {
     "data": {
      "text/plain": [
       "<7x31 sparse matrix of type '<class 'numpy.float64'>'\n",
       "\twith 39 stored elements in Compressed Sparse Row format>"
      ]
     },
     "execution_count": 7,
     "metadata": {},
     "output_type": "execute_result"
    }
   ],
   "source": [
    "from sklearn.feature_extraction.text import TfidfVectorizer,CountVectorizer, TfidfTransformer\n",
    "vectorizer = TfidfVectorizer()\n",
    "vectorizer.fit_transform(corpus)"
   ]
  },
  {
   "cell_type": "code",
   "execution_count": 8,
   "id": "ae8f3517",
   "metadata": {},
   "outputs": [
    {
     "data": {
      "text/plain": [
       "array([[0.        , 0.        , 0.        , 0.        , 0.        ,\n",
       "        0.        , 0.        , 0.        , 0.48758994, 0.        ,\n",
       "        0.        , 0.        , 0.        , 0.        , 0.        ,\n",
       "        0.        , 0.34595964, 0.        , 0.        , 0.        ,\n",
       "        0.        , 0.40474152, 0.        , 0.        , 0.        ,\n",
       "        0.69191927, 0.        , 0.        , 0.        , 0.        ,\n",
       "        0.        ],\n",
       "       [0.53426056, 0.        , 0.        , 0.        , 0.        ,\n",
       "        0.        , 0.        , 0.        , 0.        , 0.        ,\n",
       "        0.        , 0.        , 0.        , 0.53426056, 0.        ,\n",
       "        0.        , 0.        , 0.        , 0.        , 0.53426056,\n",
       "        0.        , 0.        , 0.        , 0.        , 0.        ,\n",
       "        0.37907384, 0.        , 0.        , 0.        , 0.        ,\n",
       "        0.        ],\n",
       "       [0.        , 0.33911151, 0.33911151, 0.33911151, 0.        ,\n",
       "        0.33911151, 0.        , 0.        , 0.        , 0.        ,\n",
       "        0.        , 0.        , 0.33911151, 0.        , 0.        ,\n",
       "        0.        , 0.24060976, 0.33911151, 0.        , 0.        ,\n",
       "        0.        , 0.28149168, 0.        , 0.        , 0.        ,\n",
       "        0.24060976, 0.        , 0.        , 0.33911151, 0.        ,\n",
       "        0.        ],\n",
       "       [0.        , 0.        , 0.        , 0.        , 0.        ,\n",
       "        0.        , 0.        , 0.        , 0.        , 0.47122483,\n",
       "        0.47122483, 0.        , 0.        , 0.        , 0.        ,\n",
       "        0.47122483, 0.3343481 , 0.        , 0.        , 0.        ,\n",
       "        0.        , 0.        , 0.        , 0.        , 0.        ,\n",
       "        0.        , 0.        , 0.        , 0.        , 0.47122483,\n",
       "        0.        ],\n",
       "       [0.        , 0.        , 0.        , 0.        , 0.3642804 ,\n",
       "        0.        , 0.43884665, 0.        , 0.        , 0.        ,\n",
       "        0.        , 0.        , 0.        , 0.        , 0.        ,\n",
       "        0.        , 0.        , 0.        , 0.43884665, 0.        ,\n",
       "        0.        , 0.        , 0.43884665, 0.        , 0.        ,\n",
       "        0.        , 0.43884665, 0.31137481, 0.        , 0.        ,\n",
       "        0.        ],\n",
       "       [0.        , 0.        , 0.        , 0.        , 0.40540376,\n",
       "        0.        , 0.        , 0.48838773, 0.        , 0.        ,\n",
       "        0.        , 0.48838773, 0.        , 0.        , 0.48838773,\n",
       "        0.        , 0.        , 0.        , 0.        , 0.        ,\n",
       "        0.        , 0.        , 0.        , 0.        , 0.        ,\n",
       "        0.        , 0.        , 0.3465257 , 0.        , 0.        ,\n",
       "        0.        ],\n",
       "       [0.        , 0.        , 0.        , 0.        , 0.        ,\n",
       "        0.        , 0.        , 0.        , 0.        , 0.        ,\n",
       "        0.        , 0.        , 0.        , 0.        , 0.        ,\n",
       "        0.        , 0.        , 0.        , 0.        , 0.        ,\n",
       "        0.47122483, 0.        , 0.        , 0.47122483, 0.47122483,\n",
       "        0.        , 0.        , 0.3343481 , 0.        , 0.        ,\n",
       "        0.47122483]])"
      ]
     },
     "execution_count": 8,
     "metadata": {},
     "output_type": "execute_result"
    }
   ],
   "source": [
    "vectorizer.fit_transform(corpus).toarray()"
   ]
  },
  {
   "cell_type": "code",
   "execution_count": 4,
   "id": "e218ab99",
   "metadata": {},
   "outputs": [
    {
     "data": {
      "text/plain": [
       "{'after': 2.386294361119891,\n",
       " 'as': 2.386294361119891,\n",
       " 'birthday': 2.386294361119891,\n",
       " 'but': 2.386294361119891,\n",
       " 'come': 1.9808292530117262,\n",
       " 'day': 2.386294361119891,\n",
       " 'dont': 2.386294361119891,\n",
       " 'early': 2.386294361119891,\n",
       " 'favoute': 2.386294361119891,\n",
       " 'festival': 2.386294361119891,\n",
       " 'for': 2.386294361119891,\n",
       " 'friday': 2.386294361119891,\n",
       " 'good': 2.386294361119891,\n",
       " 'hate': 2.386294361119891,\n",
       " 'have': 2.386294361119891,\n",
       " 'holiday': 2.386294361119891,\n",
       " 'is': 1.6931471805599454,\n",
       " 'its': 2.386294361119891,\n",
       " 'like': 2.386294361119891,\n",
       " 'mondays': 2.386294361119891,\n",
       " 'more': 2.386294361119891,\n",
       " 'my': 1.9808292530117262,\n",
       " 'on': 2.386294361119891,\n",
       " 'passion': 2.386294361119891,\n",
       " 'saturday': 2.386294361119891,\n",
       " 'sunday': 1.6931471805599454,\n",
       " 'thrusday': 2.386294361119891,\n",
       " 'to': 1.6931471805599454,\n",
       " 'tuesday': 2.386294361119891,\n",
       " 'wednesday': 2.386294361119891,\n",
       " 'work': 2.386294361119891}"
      ]
     },
     "execution_count": 4,
     "metadata": {},
     "output_type": "execute_result"
    }
   ],
   "source": [
    "cv1 = CountVectorizer()\n",
    "datatrain = cv1.fit_transform(corpus)\n",
    "word2tfidft = dict(zip(cv1.get_feature_names(), vectorizer.idf_))\n",
    "word2tfidft"
   ]
  },
  {
   "cell_type": "code",
   "execution_count": 5,
   "id": "7f085b50",
   "metadata": {},
   "outputs": [],
   "source": [
    "testdata = ['i like festival', 'i love vacation in festival', 'i interested in work in festival']"
   ]
  },
  {
   "cell_type": "code",
   "execution_count": 9,
   "id": "7095e814",
   "metadata": {},
   "outputs": [
    {
     "data": {
      "text/plain": [
       "{'festival': 1.0,\n",
       " 'in': 1.2876820724517808,\n",
       " 'interested': 1.6931471805599454,\n",
       " 'like': 1.6931471805599454,\n",
       " 'love': 1.6931471805599454,\n",
       " 'vacation': 1.6931471805599454,\n",
       " 'work': 1.6931471805599454}"
      ]
     },
     "execution_count": 9,
     "metadata": {},
     "output_type": "execute_result"
    }
   ],
   "source": [
    "cv11 = CountVectorizer()\n",
    "test_text = cv11.fit_transform(testdata)\n",
    "vectorizer1 = TfidfVectorizer()\n",
    "vectorizer1.fit_transform(testdata)\n",
    "word2tfidftt = dict(zip(cv11.get_feature_names(), vectorizer1.idf_))\n",
    "word2tfidftt"
   ]
  },
  {
   "cell_type": "code",
   "execution_count": 10,
   "id": "2915a896",
   "metadata": {},
   "outputs": [
    {
     "data": {
      "text/plain": [
       "array([1.        , 1.28768207, 1.69314718, 1.69314718, 1.69314718,\n",
       "       1.69314718, 1.69314718])"
      ]
     },
     "execution_count": 10,
     "metadata": {},
     "output_type": "execute_result"
    }
   ],
   "source": [
    "vectorizer1.idf_"
   ]
  },
  {
   "cell_type": "code",
   "execution_count": 11,
   "id": "f82a88dc",
   "metadata": {},
   "outputs": [
    {
     "data": {
      "text/plain": [
       "array([2.38629436, 2.38629436, 2.38629436, 2.38629436, 1.98082925,\n",
       "       2.38629436, 2.38629436, 2.38629436, 2.38629436, 2.38629436,\n",
       "       2.38629436, 2.38629436, 2.38629436, 2.38629436, 2.38629436,\n",
       "       2.38629436, 1.69314718, 2.38629436, 2.38629436, 2.38629436,\n",
       "       2.38629436, 1.98082925, 2.38629436, 2.38629436, 2.38629436,\n",
       "       1.69314718, 2.38629436, 1.69314718, 2.38629436, 2.38629436,\n",
       "       2.38629436])"
      ]
     },
     "execution_count": 11,
     "metadata": {},
     "output_type": "execute_result"
    }
   ],
   "source": [
    "vectorizer.idf_"
   ]
  },
  {
   "cell_type": "code",
   "execution_count": null,
   "id": "19d5ee05",
   "metadata": {},
   "outputs": [],
   "source": [
    "'festival': 2.386294361119891,  'festival': 1.0,"
   ]
  }
 ],
 "metadata": {
  "kernelspec": {
   "display_name": "Python 3",
   "language": "python",
   "name": "python3"
  },
  "language_info": {
   "codemirror_mode": {
    "name": "ipython",
    "version": 3
   },
   "file_extension": ".py",
   "mimetype": "text/x-python",
   "name": "python",
   "nbconvert_exporter": "python",
   "pygments_lexer": "ipython3",
   "version": "3.8.8"
  }
 },
 "nbformat": 4,
 "nbformat_minor": 5
}

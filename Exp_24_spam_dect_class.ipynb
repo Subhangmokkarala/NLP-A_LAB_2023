{
 "cells": [
  {
   "cell_type": "markdown",
   "id": "6e4c9fce",
   "metadata": {},
   "source": [
    "# pseudo-code in python for span SMS classification using semantic representation LSA\n",
    "# Construct SMS spam elimination algorithm steps using the LSA model.\n",
    "# How the LSA model is used for the classification of SMS spam. Use python packages with code fractions to explain the model."
   ]
  },
  {
   "cell_type": "markdown",
   "id": "cd451a69",
   "metadata": {},
   "source": [
    "# dataset@\n",
    "## https://www.kaggle.com/datasets/uciml/sms-spam-collection-dataset"
   ]
  },
  {
   "cell_type": "markdown",
   "id": "9f7f240a",
   "metadata": {},
   "source": [
    "# HA-3\n",
    "### 1. Tell how polysemy, homonyms and zeugma impact the outcome of a text-based NLP application. \n",
    "### 2. Judge the effects of homographs and homophones in chatbot voice-based applications.\n",
    "### 3.What is the function of t-NSE representation and its role in the analysis of NLP pipelines.\n"
   ]
  },
  {
   "cell_type": "code",
   "execution_count": 1,
   "id": "7a38a0ed",
   "metadata": {},
   "outputs": [],
   "source": [
    "import numpy as np\n",
    "import pandas as pd\n",
    "import matplotlib.pyplot as plt\n",
    "import seaborn as sns\n",
    "import tensorflow as tf\n",
    "from tensorflow import keras\n",
    "from tensorflow.keras import layers"
   ]
  },
  {
   "cell_type": "code",
   "execution_count": 2,
   "id": "68d64065",
   "metadata": {},
   "outputs": [
    {
     "data": {
      "text/html": [
       "<div>\n",
       "<style scoped>\n",
       "    .dataframe tbody tr th:only-of-type {\n",
       "        vertical-align: middle;\n",
       "    }\n",
       "\n",
       "    .dataframe tbody tr th {\n",
       "        vertical-align: top;\n",
       "    }\n",
       "\n",
       "    .dataframe thead th {\n",
       "        text-align: right;\n",
       "    }\n",
       "</style>\n",
       "<table border=\"1\" class=\"dataframe\">\n",
       "  <thead>\n",
       "    <tr style=\"text-align: right;\">\n",
       "      <th></th>\n",
       "      <th>v1</th>\n",
       "      <th>v2</th>\n",
       "      <th>Unnamed: 2</th>\n",
       "      <th>Unnamed: 3</th>\n",
       "      <th>Unnamed: 4</th>\n",
       "    </tr>\n",
       "  </thead>\n",
       "  <tbody>\n",
       "    <tr>\n",
       "      <th>0</th>\n",
       "      <td>ham</td>\n",
       "      <td>Go until jurong point, crazy.. Available only ...</td>\n",
       "      <td>NaN</td>\n",
       "      <td>NaN</td>\n",
       "      <td>NaN</td>\n",
       "    </tr>\n",
       "    <tr>\n",
       "      <th>1</th>\n",
       "      <td>ham</td>\n",
       "      <td>Ok lar... Joking wif u oni...</td>\n",
       "      <td>NaN</td>\n",
       "      <td>NaN</td>\n",
       "      <td>NaN</td>\n",
       "    </tr>\n",
       "    <tr>\n",
       "      <th>2</th>\n",
       "      <td>spam</td>\n",
       "      <td>Free entry in 2 a wkly comp to win FA Cup fina...</td>\n",
       "      <td>NaN</td>\n",
       "      <td>NaN</td>\n",
       "      <td>NaN</td>\n",
       "    </tr>\n",
       "    <tr>\n",
       "      <th>3</th>\n",
       "      <td>ham</td>\n",
       "      <td>U dun say so early hor... U c already then say...</td>\n",
       "      <td>NaN</td>\n",
       "      <td>NaN</td>\n",
       "      <td>NaN</td>\n",
       "    </tr>\n",
       "    <tr>\n",
       "      <th>4</th>\n",
       "      <td>ham</td>\n",
       "      <td>Nah I don't think he goes to usf, he lives aro...</td>\n",
       "      <td>NaN</td>\n",
       "      <td>NaN</td>\n",
       "      <td>NaN</td>\n",
       "    </tr>\n",
       "  </tbody>\n",
       "</table>\n",
       "</div>"
      ],
      "text/plain": [
       "     v1                                                 v2 Unnamed: 2  \\\n",
       "0   ham  Go until jurong point, crazy.. Available only ...        NaN   \n",
       "1   ham                      Ok lar... Joking wif u oni...        NaN   \n",
       "2  spam  Free entry in 2 a wkly comp to win FA Cup fina...        NaN   \n",
       "3   ham  U dun say so early hor... U c already then say...        NaN   \n",
       "4   ham  Nah I don't think he goes to usf, he lives aro...        NaN   \n",
       "\n",
       "  Unnamed: 3 Unnamed: 4  \n",
       "0        NaN        NaN  \n",
       "1        NaN        NaN  \n",
       "2        NaN        NaN  \n",
       "3        NaN        NaN  \n",
       "4        NaN        NaN  "
      ]
     },
     "execution_count": 2,
     "metadata": {},
     "output_type": "execute_result"
    }
   ],
   "source": [
    "df = pd.read_csv('spam.csv', encoding = 'latin-1')\n",
    "df.head()"
   ]
  },
  {
   "cell_type": "markdown",
   "id": "d80647b5",
   "metadata": {},
   "source": [
    "The dataset contains three unnamed columns with null values. \n",
    "Drop those columns \n",
    "Rename the columns v1 and v2 to label and Text. \n",
    "Since the target variable is in string form, we will encode it numerically using pandas function .map()."
   ]
  },
  {
   "cell_type": "code",
   "execution_count": 3,
   "id": "51151ad4",
   "metadata": {},
   "outputs": [
    {
     "data": {
      "text/html": [
       "<div>\n",
       "<style scoped>\n",
       "    .dataframe tbody tr th:only-of-type {\n",
       "        vertical-align: middle;\n",
       "    }\n",
       "\n",
       "    .dataframe tbody tr th {\n",
       "        vertical-align: top;\n",
       "    }\n",
       "\n",
       "    .dataframe thead th {\n",
       "        text-align: right;\n",
       "    }\n",
       "</style>\n",
       "<table border=\"1\" class=\"dataframe\">\n",
       "  <thead>\n",
       "    <tr style=\"text-align: right;\">\n",
       "      <th></th>\n",
       "      <th>v1</th>\n",
       "      <th>v2</th>\n",
       "    </tr>\n",
       "  </thead>\n",
       "  <tbody>\n",
       "    <tr>\n",
       "      <th>0</th>\n",
       "      <td>ham</td>\n",
       "      <td>Go until jurong point, crazy.. Available only ...</td>\n",
       "    </tr>\n",
       "    <tr>\n",
       "      <th>1</th>\n",
       "      <td>ham</td>\n",
       "      <td>Ok lar... Joking wif u oni...</td>\n",
       "    </tr>\n",
       "    <tr>\n",
       "      <th>2</th>\n",
       "      <td>spam</td>\n",
       "      <td>Free entry in 2 a wkly comp to win FA Cup fina...</td>\n",
       "    </tr>\n",
       "    <tr>\n",
       "      <th>3</th>\n",
       "      <td>ham</td>\n",
       "      <td>U dun say so early hor... U c already then say...</td>\n",
       "    </tr>\n",
       "    <tr>\n",
       "      <th>4</th>\n",
       "      <td>ham</td>\n",
       "      <td>Nah I don't think he goes to usf, he lives aro...</td>\n",
       "    </tr>\n",
       "  </tbody>\n",
       "</table>\n",
       "</div>"
      ],
      "text/plain": [
       "     v1                                                 v2\n",
       "0   ham  Go until jurong point, crazy.. Available only ...\n",
       "1   ham                      Ok lar... Joking wif u oni...\n",
       "2  spam  Free entry in 2 a wkly comp to win FA Cup fina...\n",
       "3   ham  U dun say so early hor... U c already then say...\n",
       "4   ham  Nah I don't think he goes to usf, he lives aro..."
      ]
     },
     "execution_count": 3,
     "metadata": {},
     "output_type": "execute_result"
    }
   ],
   "source": [
    "df = df.drop(['Unnamed: 2','Unnamed: 3','Unnamed: 4'], axis = 1)\n",
    "df.head()"
   ]
  },
  {
   "cell_type": "code",
   "execution_count": 4,
   "id": "787d576b",
   "metadata": {},
   "outputs": [
    {
     "data": {
      "text/html": [
       "<div>\n",
       "<style scoped>\n",
       "    .dataframe tbody tr th:only-of-type {\n",
       "        vertical-align: middle;\n",
       "    }\n",
       "\n",
       "    .dataframe tbody tr th {\n",
       "        vertical-align: top;\n",
       "    }\n",
       "\n",
       "    .dataframe thead th {\n",
       "        text-align: right;\n",
       "    }\n",
       "</style>\n",
       "<table border=\"1\" class=\"dataframe\">\n",
       "  <thead>\n",
       "    <tr style=\"text-align: right;\">\n",
       "      <th></th>\n",
       "      <th>label</th>\n",
       "      <th>text</th>\n",
       "    </tr>\n",
       "  </thead>\n",
       "  <tbody>\n",
       "    <tr>\n",
       "      <th>0</th>\n",
       "      <td>ham</td>\n",
       "      <td>Go until jurong point, crazy.. Available only ...</td>\n",
       "    </tr>\n",
       "    <tr>\n",
       "      <th>1</th>\n",
       "      <td>ham</td>\n",
       "      <td>Ok lar... Joking wif u oni...</td>\n",
       "    </tr>\n",
       "    <tr>\n",
       "      <th>2</th>\n",
       "      <td>spam</td>\n",
       "      <td>Free entry in 2 a wkly comp to win FA Cup fina...</td>\n",
       "    </tr>\n",
       "    <tr>\n",
       "      <th>3</th>\n",
       "      <td>ham</td>\n",
       "      <td>U dun say so early hor... U c already then say...</td>\n",
       "    </tr>\n",
       "    <tr>\n",
       "      <th>4</th>\n",
       "      <td>ham</td>\n",
       "      <td>Nah I don't think he goes to usf, he lives aro...</td>\n",
       "    </tr>\n",
       "  </tbody>\n",
       "</table>\n",
       "</div>"
      ],
      "text/plain": [
       "  label                                               text\n",
       "0   ham  Go until jurong point, crazy.. Available only ...\n",
       "1   ham                      Ok lar... Joking wif u oni...\n",
       "2  spam  Free entry in 2 a wkly comp to win FA Cup fina...\n",
       "3   ham  U dun say so early hor... U c already then say...\n",
       "4   ham  Nah I don't think he goes to usf, he lives aro..."
      ]
     },
     "execution_count": 4,
     "metadata": {},
     "output_type": "execute_result"
    }
   ],
   "source": [
    "df = df.rename(columns={'v1':'label','v2':'text'})\n",
    "df.head()"
   ]
  },
  {
   "cell_type": "code",
   "execution_count": 5,
   "id": "ba3b2596",
   "metadata": {},
   "outputs": [
    {
     "data": {
      "text/html": [
       "<div>\n",
       "<style scoped>\n",
       "    .dataframe tbody tr th:only-of-type {\n",
       "        vertical-align: middle;\n",
       "    }\n",
       "\n",
       "    .dataframe tbody tr th {\n",
       "        vertical-align: top;\n",
       "    }\n",
       "\n",
       "    .dataframe thead th {\n",
       "        text-align: right;\n",
       "    }\n",
       "</style>\n",
       "<table border=\"1\" class=\"dataframe\">\n",
       "  <thead>\n",
       "    <tr style=\"text-align: right;\">\n",
       "      <th></th>\n",
       "      <th>label</th>\n",
       "      <th>text</th>\n",
       "      <th>label_enc</th>\n",
       "    </tr>\n",
       "  </thead>\n",
       "  <tbody>\n",
       "    <tr>\n",
       "      <th>0</th>\n",
       "      <td>ham</td>\n",
       "      <td>Go until jurong point, crazy.. Available only ...</td>\n",
       "      <td>0</td>\n",
       "    </tr>\n",
       "    <tr>\n",
       "      <th>1</th>\n",
       "      <td>ham</td>\n",
       "      <td>Ok lar... Joking wif u oni...</td>\n",
       "      <td>0</td>\n",
       "    </tr>\n",
       "    <tr>\n",
       "      <th>2</th>\n",
       "      <td>spam</td>\n",
       "      <td>Free entry in 2 a wkly comp to win FA Cup fina...</td>\n",
       "      <td>1</td>\n",
       "    </tr>\n",
       "    <tr>\n",
       "      <th>3</th>\n",
       "      <td>ham</td>\n",
       "      <td>U dun say so early hor... U c already then say...</td>\n",
       "      <td>0</td>\n",
       "    </tr>\n",
       "    <tr>\n",
       "      <th>4</th>\n",
       "      <td>ham</td>\n",
       "      <td>Nah I don't think he goes to usf, he lives aro...</td>\n",
       "      <td>0</td>\n",
       "    </tr>\n",
       "  </tbody>\n",
       "</table>\n",
       "</div>"
      ],
      "text/plain": [
       "  label                                               text  label_enc\n",
       "0   ham  Go until jurong point, crazy.. Available only ...          0\n",
       "1   ham                      Ok lar... Joking wif u oni...          0\n",
       "2  spam  Free entry in 2 a wkly comp to win FA Cup fina...          1\n",
       "3   ham  U dun say so early hor... U c already then say...          0\n",
       "4   ham  Nah I don't think he goes to usf, he lives aro...          0"
      ]
     },
     "execution_count": 5,
     "metadata": {},
     "output_type": "execute_result"
    }
   ],
   "source": [
    "df['label_enc'] = df['label'].map({'ham':0, 'spam':1})\n",
    "df.head()"
   ]
  },
  {
   "cell_type": "code",
   "execution_count": 6,
   "id": "2ce28c81",
   "metadata": {},
   "outputs": [
    {
     "data": {
      "image/png": "[encoded data removed]",
      "text/plain": [
       "<Figure size 432x288 with 1 Axes>"
      ]
     },
     "metadata": {
      "needs_background": "light"
     },
     "output_type": "display_data"
    }
   ],
   "source": [
    "sns.countplot(x = df['label'])\n",
    "plt.show()"
   ]
  },
  {
   "cell_type": "markdown",
   "id": "4c974462",
   "metadata": {},
   "source": [
    "# The ham data is comparatively higher than spam data, it’s natural. Since we are going to use embeddings in our deep learning model, we need not balance the data. Now, let’s find the average number of words in all the sentences in SMS data."
   ]
  },
  {
   "cell_type": "markdown",
   "id": "64d74007",
   "metadata": {},
   "source": [
    "# Find average number of tokens in all sentences"
   ]
  },
  {
   "cell_type": "code",
   "execution_count": 7,
   "id": "18846657",
   "metadata": {},
   "outputs": [
    {
     "data": {
      "text/plain": [
       "15"
      ]
     },
     "execution_count": 7,
     "metadata": {},
     "output_type": "execute_result"
    }
   ],
   "source": [
    "avg_words_len = round(sum([len(i.split()) for i in df['text']])/len(df['text']))\n",
    "avg_words_len"
   ]
  },
  {
   "cell_type": "markdown",
   "id": "705e46f1",
   "metadata": {},
   "source": [
    "#  find the total number of unique words in the corpus"
   ]
  },
  {
   "cell_type": "code",
   "execution_count": 8,
   "id": "73cf28b4",
   "metadata": {},
   "outputs": [
    {
     "data": {
      "text/plain": [
       "15585"
      ]
     },
     "execution_count": 8,
     "metadata": {},
     "output_type": "execute_result"
    }
   ],
   "source": [
    "s = set()\n",
    "for sent in df['text']:\n",
    "    for word in sent.split():\n",
    "        s.add(word)\n",
    "    total_words_len = len(s)\n",
    "total_words_len"
   ]
  },
  {
   "cell_type": "markdown",
   "id": "af2f160c",
   "metadata": {},
   "source": [
    "#  split the data into training and testing parts using train_test_split() function."
   ]
  },
  {
   "cell_type": "code",
   "execution_count": 17,
   "id": "a597d5d6",
   "metadata": {},
   "outputs": [
    {
     "data": {
      "text/plain": [
       "((4457,), (4457,), (1115,), (1115,))"
      ]
     },
     "execution_count": 17,
     "metadata": {},
     "output_type": "execute_result"
    }
   ],
   "source": [
    "from sklearn.model_selection import train_test_split\n",
    "X, y = np.asanyarray(df['text']), np.asanyarray(df['label_enc'])\n",
    "new_df = pd.DataFrame({'Text':X, 'Label': y})\n",
    "new_df.head()\n",
    "#X_train, X_test, y_train, y_test = train_test_split(new_df['text'],new_df['label'], test_size = 0.2, random_state = 42)\n",
    "X_train, X_test, y_train, y_test = train_test_split(new_df['Text'],\n",
    "                                                   new_df['Label'],\n",
    "                                                   test_size = 0.2,\n",
    "                                                   random_state = 42)\n",
    "X_train.shape, y_train.shape, X_test.shape, y_test.shape"
   ]
  },
  {
   "cell_type": "markdown",
   "id": "46bfac2c",
   "metadata": {},
   "source": [
    "# \"\"\" Build the model with tfidf features using NB classifier\"\"\""
   ]
  },
  {
   "cell_type": "code",
   "execution_count": 18,
   "id": "02825ea2",
   "metadata": {},
   "outputs": [],
   "source": [
    "from sklearn.feature_extraction.text import TfidfVectorizer\n",
    "from sklearn.naive_bayes import MultinomialNB\n",
    "from sklearn.metrics import classification_report, accuracy_score"
   ]
  },
  {
   "cell_type": "code",
   "execution_count": 19,
   "id": "80148972",
   "metadata": {},
   "outputs": [],
   "source": [
    "X_train = [str(item) for item in X_train]\n",
    "X_test = [str(item) for item in X_test]\n",
    "#X_train"
   ]
  },
  {
   "cell_type": "code",
   "execution_count": 20,
   "id": "627978e1",
   "metadata": {},
   "outputs": [
    {
     "name": "stdout",
     "output_type": "stream",
     "text": [
      "  (0, 7674)\t0.2780580098469636\n",
      "  (0, 6786)\t0.12427677819754165\n",
      "  (0, 6455)\t0.21083615486777574\n",
      "  (0, 5872)\t0.26710534096823246\n",
      "  (0, 4988)\t0.1903904544048287\n",
      "  (0, 4912)\t0.15957326527314455\n",
      "  (0, 4773)\t0.17659786192165677\n",
      "  (0, 4661)\t0.3714150879090969\n",
      "  (0, 4646)\t0.14901928724105368\n",
      "  (0, 4549)\t0.3610761139104893\n",
      "  (0, 4390)\t0.14278469554070108\n",
      "  (0, 3637)\t0.1356900314797867\n",
      "  (0, 3416)\t0.22465058036136068\n",
      "  (0, 3308)\t0.2780580098469636\n",
      "  (0, 1758)\t0.2736419760203263\n",
      "  (0, 1415)\t0.3714150879090969\n",
      "  (0, 1105)\t0.16911106738950407\n",
      "  (1, 7152)\t0.13192690604552595\n",
      "  (1, 6781)\t0.11591125876695066\n",
      "  (1, 6639)\t0.27079885833944156\n",
      "  (1, 6494)\t0.2473832281421039\n",
      "  (1, 5178)\t0.177668342459472\n",
      "  (1, 5126)\t0.18685470215123204\n",
      "  (1, 5003)\t0.1828758011561768\n",
      "  (1, 4986)\t0.15977442079298718\n",
      "  :\t:\n",
      "  (4452, 1833)\t0.29751311096286004\n",
      "  (4452, 1628)\t0.3213332406530875\n",
      "  (4452, 1608)\t0.1741191267977231\n",
      "  (4452, 1298)\t0.2860990438603183\n",
      "  (4453, 6299)\t0.5422825367621465\n",
      "  (4453, 4147)\t0.4831266135229213\n",
      "  (4453, 4019)\t0.564721783565922\n",
      "  (4453, 1608)\t0.3919280964600638\n",
      "  (4454, 6306)\t0.44743083090000146\n",
      "  (4454, 6305)\t0.44743083090000146\n",
      "  (4454, 5590)\t0.40874206042479744\n",
      "  (4454, 5335)\t0.43497582872738466\n",
      "  (4454, 3383)\t0.31753127203477105\n",
      "  (4454, 3028)\t0.3775064911532845\n",
      "  (4455, 6922)\t0.40997629646174116\n",
      "  (4455, 6002)\t0.5321975225970689\n",
      "  (4455, 4827)\t0.47741741602516974\n",
      "  (4455, 3841)\t0.5663548747533713\n",
      "  (4456, 7558)\t0.39998018402624114\n",
      "  (4456, 4823)\t0.26768086084946213\n",
      "  (4456, 4464)\t0.4172975465999509\n",
      "  (4456, 3637)\t0.4545506107453256\n",
      "  (4456, 3361)\t0.2607436656574805\n",
      "  (4456, 3182)\t0.34563518171162966\n",
      "  (4456, 2836)\t0.44739062459623274\n"
     ]
    }
   ],
   "source": [
    "tfidfvects = TfidfVectorizer().fit(X_train)\n",
    "X_train_vec,X_test_vec = tfidfvects.transform(X_train),tfidfvects.transform(X_test)\n",
    "print(X_train_vec)"
   ]
  },
  {
   "cell_type": "markdown",
   "id": "8cf4cc25",
   "metadata": {},
   "source": [
    "# %% Train the Bayes classifier Model"
   ]
  },
  {
   "cell_type": "code",
   "execution_count": 21,
   "id": "82eea8d9",
   "metadata": {},
   "outputs": [
    {
     "name": "stdout",
     "output_type": "stream",
     "text": [
      "0.9623318385650225\n",
      "              precision    recall  f1-score   support\n",
      "\n",
      "           0       0.96      1.00      0.98       965\n",
      "           1       1.00      0.72      0.84       150\n",
      "\n",
      "    accuracy                           0.96      1115\n",
      "   macro avg       0.98      0.86      0.91      1115\n",
      "weighted avg       0.96      0.96      0.96      1115\n",
      "\n"
     ]
    }
   ],
   "source": [
    "baseline_model = MultinomialNB()\n",
    "baseline_model.fit(X_train_vec,y_train)\n",
    "y_pred = baseline_model.predict(X_test_vec)\n",
    "nb_accuracy = accuracy_score(y_test, y_pred)\n",
    "print(nb_accuracy)\n",
    "print(classification_report(y_test, y_pred))"
   ]
  },
  {
   "cell_type": "markdown",
   "id": "8b234619",
   "metadata": {},
   "source": [
    "# %% Plot Confusion Matrix"
   ]
  },
  {
   "cell_type": "code",
   "execution_count": 22,
   "id": "dfb2cb30",
   "metadata": {},
   "outputs": [
    {
     "data": {
      "text/plain": [
       "<sklearn.metrics._plot.confusion_matrix.ConfusionMatrixDisplay at 0x211ffcf7640>"
      ]
     },
     "execution_count": 22,
     "metadata": {},
     "output_type": "execute_result"
    },
    {
     "data": {
      "image/png": "[encoded data removed]",
      "text/plain": [
       "<Figure size 432x288 with 2 Axes>"
      ]
     },
     "metadata": {
      "needs_background": "light"
     },
     "output_type": "display_data"
    }
   ],
   "source": [
    "from sklearn.metrics import plot_confusion_matrix\n",
    "plot_confusion_matrix(baseline_model,X_test_vec, y_test)"
   ]
  },
  {
   "cell_type": "code",
   "execution_count": null,
   "id": "42444e94",
   "metadata": {},
   "outputs": [],
   "source": []
  }
 ],
 "metadata": {
  "kernelspec": {
   "display_name": "Python 3",
   "language": "python",
   "name": "python3"
  },
  "language_info": {
   "codemirror_mode": {
    "name": "ipython",
    "version": 3
   },
   "file_extension": ".py",
   "mimetype": "text/x-python",
   "name": "python",
   "nbconvert_exporter": "python",
   "pygments_lexer": "ipython3",
   "version": "3.8.8"
  }
 },
 "nbformat": 4,
 "nbformat_minor": 5
}
